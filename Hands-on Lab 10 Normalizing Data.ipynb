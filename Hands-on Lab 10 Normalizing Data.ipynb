{
 "cells": [
  {
   "cell_type": "markdown",
   "metadata": {},
   "source": [
    "# **Data Normalization Techniques**\n"
   ]
  },
  {
   "cell_type": "markdown",
   "metadata": {},
   "source": [
    "Estimated time needed: **30** minutes\n"
   ]
  },
  {
   "cell_type": "markdown",
   "metadata": {},
   "source": [
    "In this lab, you will focus on data normalization. This includes identifying compensation-related columns, applying normalization techniques, and visualizing the data distributions.\n"
   ]
  },
  {
   "cell_type": "markdown",
   "metadata": {},
   "source": [
    "## Objectives\n"
   ]
  },
  {
   "cell_type": "markdown",
   "metadata": {},
   "source": [
    "In this lab, you will perform the following:\n"
   ]
  },
  {
   "cell_type": "markdown",
   "metadata": {},
   "source": [
    "- Identify duplicate rows and remove them.\n",
    "\n",
    "- Check and handle missing values in key columns.\n",
    "\n",
    "- Identify and normalize compensation-related columns.\n",
    "\n",
    "- Visualize the effect of normalization techniques on data distributions.\n"
   ]
  },
  {
   "cell_type": "markdown",
   "metadata": {},
   "source": [
    "-----\n"
   ]
  },
  {
   "cell_type": "markdown",
   "metadata": {},
   "source": [
    "## Hands on Lab\n"
   ]
  },
  {
   "cell_type": "markdown",
   "metadata": {},
   "source": [
    "#### Step 1: Install and Import Libraries\n"
   ]
  },
  {
   "cell_type": "code",
   "execution_count": 1,
   "metadata": {},
   "outputs": [
    {
     "name": "stdout",
     "output_type": "stream",
     "text": [
      "Collecting pandas\n",
      "  Downloading pandas-2.2.3-cp312-cp312-manylinux_2_17_x86_64.manylinux2014_x86_64.whl.metadata (89 kB)\n",
      "Collecting numpy>=1.26.0 (from pandas)\n",
      "  Downloading numpy-2.2.6-cp312-cp312-manylinux_2_17_x86_64.manylinux2014_x86_64.whl.metadata (62 kB)\n",
      "Requirement already satisfied: python-dateutil>=2.8.2 in /opt/conda/lib/python3.12/site-packages (from pandas) (2.9.0.post0)\n",
      "Requirement already satisfied: pytz>=2020.1 in /opt/conda/lib/python3.12/site-packages (from pandas) (2024.2)\n",
      "Collecting tzdata>=2022.7 (from pandas)\n",
      "  Downloading tzdata-2025.2-py2.py3-none-any.whl.metadata (1.4 kB)\n",
      "Requirement already satisfied: six>=1.5 in /opt/conda/lib/python3.12/site-packages (from python-dateutil>=2.8.2->pandas) (1.17.0)\n",
      "Downloading pandas-2.2.3-cp312-cp312-manylinux_2_17_x86_64.manylinux2014_x86_64.whl (12.7 MB)\n",
      "\u001b[2K   \u001b[90m━━━━━━━━━━━━━━━━━━━━━━━━━━━━━━━━━━━━━━━━\u001b[0m \u001b[32m12.7/12.7 MB\u001b[0m \u001b[31m164.5 MB/s\u001b[0m eta \u001b[36m0:00:00\u001b[0m\n",
      "\u001b[?25hDownloading numpy-2.2.6-cp312-cp312-manylinux_2_17_x86_64.manylinux2014_x86_64.whl (16.5 MB)\n",
      "\u001b[2K   \u001b[90m━━━━━━━━━━━━━━━━━━━━━━━━━━━━━━━━━━━━━━━━\u001b[0m \u001b[32m16.5/16.5 MB\u001b[0m \u001b[31m159.7 MB/s\u001b[0m eta \u001b[36m0:00:00\u001b[0m\n",
      "\u001b[?25hDownloading tzdata-2025.2-py2.py3-none-any.whl (347 kB)\n",
      "Installing collected packages: tzdata, numpy, pandas\n",
      "Successfully installed numpy-2.2.6 pandas-2.2.3 tzdata-2025.2\n"
     ]
    }
   ],
   "source": [
    "!pip install pandas"
   ]
  },
  {
   "cell_type": "code",
   "execution_count": 2,
   "metadata": {},
   "outputs": [
    {
     "name": "stdout",
     "output_type": "stream",
     "text": [
      "Collecting matplotlib\n",
      "  Downloading matplotlib-3.10.3-cp312-cp312-manylinux_2_17_x86_64.manylinux2014_x86_64.whl.metadata (11 kB)\n",
      "Collecting contourpy>=1.0.1 (from matplotlib)\n",
      "  Downloading contourpy-1.3.2-cp312-cp312-manylinux_2_17_x86_64.manylinux2014_x86_64.whl.metadata (5.5 kB)\n",
      "Collecting cycler>=0.10 (from matplotlib)\n",
      "  Downloading cycler-0.12.1-py3-none-any.whl.metadata (3.8 kB)\n",
      "Collecting fonttools>=4.22.0 (from matplotlib)\n",
      "  Downloading fonttools-4.58.0-cp312-cp312-manylinux_2_5_x86_64.manylinux1_x86_64.manylinux_2_17_x86_64.manylinux2014_x86_64.whl.metadata (104 kB)\n",
      "Collecting kiwisolver>=1.3.1 (from matplotlib)\n",
      "  Downloading kiwisolver-1.4.8-cp312-cp312-manylinux_2_17_x86_64.manylinux2014_x86_64.whl.metadata (6.2 kB)\n",
      "Requirement already satisfied: numpy>=1.23 in /opt/conda/lib/python3.12/site-packages (from matplotlib) (2.2.6)\n",
      "Requirement already satisfied: packaging>=20.0 in /opt/conda/lib/python3.12/site-packages (from matplotlib) (24.2)\n",
      "Collecting pillow>=8 (from matplotlib)\n",
      "  Downloading pillow-11.2.1-cp312-cp312-manylinux_2_28_x86_64.whl.metadata (8.9 kB)\n",
      "Collecting pyparsing>=2.3.1 (from matplotlib)\n",
      "  Downloading pyparsing-3.2.3-py3-none-any.whl.metadata (5.0 kB)\n",
      "Requirement already satisfied: python-dateutil>=2.7 in /opt/conda/lib/python3.12/site-packages (from matplotlib) (2.9.0.post0)\n",
      "Requirement already satisfied: six>=1.5 in /opt/conda/lib/python3.12/site-packages (from python-dateutil>=2.7->matplotlib) (1.17.0)\n",
      "Downloading matplotlib-3.10.3-cp312-cp312-manylinux_2_17_x86_64.manylinux2014_x86_64.whl (8.6 MB)\n",
      "\u001b[2K   \u001b[90m━━━━━━━━━━━━━━━━━━━━━━━━━━━━━━━━━━━━━━━━\u001b[0m \u001b[32m8.6/8.6 MB\u001b[0m \u001b[31m141.8 MB/s\u001b[0m eta \u001b[36m0:00:00\u001b[0m\n",
      "\u001b[?25hDownloading contourpy-1.3.2-cp312-cp312-manylinux_2_17_x86_64.manylinux2014_x86_64.whl (323 kB)\n",
      "Downloading cycler-0.12.1-py3-none-any.whl (8.3 kB)\n",
      "Downloading fonttools-4.58.0-cp312-cp312-manylinux_2_5_x86_64.manylinux1_x86_64.manylinux_2_17_x86_64.manylinux2014_x86_64.whl (4.9 MB)\n",
      "\u001b[2K   \u001b[90m━━━━━━━━━━━━━━━━━━━━━━━━━━━━━━━━━━━━━━━━\u001b[0m \u001b[32m4.9/4.9 MB\u001b[0m \u001b[31m162.2 MB/s\u001b[0m eta \u001b[36m0:00:00\u001b[0m\n",
      "\u001b[?25hDownloading kiwisolver-1.4.8-cp312-cp312-manylinux_2_17_x86_64.manylinux2014_x86_64.whl (1.5 MB)\n",
      "\u001b[2K   \u001b[90m━━━━━━━━━━━━━━━━━━━━━━━━━━━━━━━━━━━━━━━━\u001b[0m \u001b[32m1.5/1.5 MB\u001b[0m \u001b[31m88.0 MB/s\u001b[0m eta \u001b[36m0:00:00\u001b[0m\n",
      "\u001b[?25hDownloading pillow-11.2.1-cp312-cp312-manylinux_2_28_x86_64.whl (4.6 MB)\n",
      "\u001b[2K   \u001b[90m━━━━━━━━━━━━━━━━━━━━━━━━━━━━━━━━━━━━━━━━\u001b[0m \u001b[32m4.6/4.6 MB\u001b[0m \u001b[31m161.2 MB/s\u001b[0m eta \u001b[36m0:00:00\u001b[0m\n",
      "\u001b[?25hDownloading pyparsing-3.2.3-py3-none-any.whl (111 kB)\n",
      "Installing collected packages: pyparsing, pillow, kiwisolver, fonttools, cycler, contourpy, matplotlib\n",
      "Successfully installed contourpy-1.3.2 cycler-0.12.1 fonttools-4.58.0 kiwisolver-1.4.8 matplotlib-3.10.3 pillow-11.2.1 pyparsing-3.2.3\n"
     ]
    }
   ],
   "source": [
    "!pip install matplotlib"
   ]
  },
  {
   "cell_type": "code",
   "execution_count": 3,
   "metadata": {},
   "outputs": [],
   "source": [
    "import pandas as pd\n",
    "import matplotlib.pyplot as plt"
   ]
  },
  {
   "cell_type": "markdown",
   "metadata": {},
   "source": [
    "### Step 2: Load the Dataset into a DataFrame\n"
   ]
  },
  {
   "cell_type": "markdown",
   "metadata": {},
   "source": [
    "We use the <code>pandas.read_csv()</code> function for reading CSV files. However, in this version of the lab, which operates on JupyterLite, the dataset needs to be downloaded to the interface using the provided code below.\n"
   ]
  },
  {
   "cell_type": "markdown",
   "metadata": {},
   "source": [
    "The functions below will download the dataset into your browser:\n"
   ]
  },
  {
   "cell_type": "code",
   "execution_count": 4,
   "metadata": {},
   "outputs": [
    {
     "data": {
      "text/html": [
       "<div>\n",
       "<style scoped>\n",
       "    .dataframe tbody tr th:only-of-type {\n",
       "        vertical-align: middle;\n",
       "    }\n",
       "\n",
       "    .dataframe tbody tr th {\n",
       "        vertical-align: top;\n",
       "    }\n",
       "\n",
       "    .dataframe thead th {\n",
       "        text-align: right;\n",
       "    }\n",
       "</style>\n",
       "<table border=\"1\" class=\"dataframe\">\n",
       "  <thead>\n",
       "    <tr style=\"text-align: right;\">\n",
       "      <th></th>\n",
       "      <th>ResponseId</th>\n",
       "      <th>MainBranch</th>\n",
       "      <th>Age</th>\n",
       "      <th>Employment</th>\n",
       "      <th>RemoteWork</th>\n",
       "      <th>Check</th>\n",
       "      <th>CodingActivities</th>\n",
       "      <th>EdLevel</th>\n",
       "      <th>LearnCode</th>\n",
       "      <th>LearnCodeOnline</th>\n",
       "      <th>...</th>\n",
       "      <th>JobSatPoints_6</th>\n",
       "      <th>JobSatPoints_7</th>\n",
       "      <th>JobSatPoints_8</th>\n",
       "      <th>JobSatPoints_9</th>\n",
       "      <th>JobSatPoints_10</th>\n",
       "      <th>JobSatPoints_11</th>\n",
       "      <th>SurveyLength</th>\n",
       "      <th>SurveyEase</th>\n",
       "      <th>ConvertedCompYearly</th>\n",
       "      <th>JobSat</th>\n",
       "    </tr>\n",
       "  </thead>\n",
       "  <tbody>\n",
       "    <tr>\n",
       "      <th>0</th>\n",
       "      <td>1</td>\n",
       "      <td>I am a developer by profession</td>\n",
       "      <td>Under 18 years old</td>\n",
       "      <td>Employed, full-time</td>\n",
       "      <td>Remote</td>\n",
       "      <td>Apples</td>\n",
       "      <td>Hobby</td>\n",
       "      <td>Primary/elementary school</td>\n",
       "      <td>Books / Physical media</td>\n",
       "      <td>NaN</td>\n",
       "      <td>...</td>\n",
       "      <td>NaN</td>\n",
       "      <td>NaN</td>\n",
       "      <td>NaN</td>\n",
       "      <td>NaN</td>\n",
       "      <td>NaN</td>\n",
       "      <td>NaN</td>\n",
       "      <td>NaN</td>\n",
       "      <td>NaN</td>\n",
       "      <td>NaN</td>\n",
       "      <td>NaN</td>\n",
       "    </tr>\n",
       "    <tr>\n",
       "      <th>1</th>\n",
       "      <td>2</td>\n",
       "      <td>I am a developer by profession</td>\n",
       "      <td>35-44 years old</td>\n",
       "      <td>Employed, full-time</td>\n",
       "      <td>Remote</td>\n",
       "      <td>Apples</td>\n",
       "      <td>Hobby;Contribute to open-source projects;Other...</td>\n",
       "      <td>Bachelor’s degree (B.A., B.S., B.Eng., etc.)</td>\n",
       "      <td>Books / Physical media;Colleague;On the job tr...</td>\n",
       "      <td>Technical documentation;Blogs;Books;Written Tu...</td>\n",
       "      <td>...</td>\n",
       "      <td>0.0</td>\n",
       "      <td>0.0</td>\n",
       "      <td>0.0</td>\n",
       "      <td>0.0</td>\n",
       "      <td>0.0</td>\n",
       "      <td>0.0</td>\n",
       "      <td>NaN</td>\n",
       "      <td>NaN</td>\n",
       "      <td>NaN</td>\n",
       "      <td>NaN</td>\n",
       "    </tr>\n",
       "    <tr>\n",
       "      <th>2</th>\n",
       "      <td>3</td>\n",
       "      <td>I am a developer by profession</td>\n",
       "      <td>45-54 years old</td>\n",
       "      <td>Employed, full-time</td>\n",
       "      <td>Remote</td>\n",
       "      <td>Apples</td>\n",
       "      <td>Hobby;Contribute to open-source projects;Other...</td>\n",
       "      <td>Master’s degree (M.A., M.S., M.Eng., MBA, etc.)</td>\n",
       "      <td>Books / Physical media;Colleague;On the job tr...</td>\n",
       "      <td>Technical documentation;Blogs;Books;Written Tu...</td>\n",
       "      <td>...</td>\n",
       "      <td>NaN</td>\n",
       "      <td>NaN</td>\n",
       "      <td>NaN</td>\n",
       "      <td>NaN</td>\n",
       "      <td>NaN</td>\n",
       "      <td>NaN</td>\n",
       "      <td>Appropriate in length</td>\n",
       "      <td>Easy</td>\n",
       "      <td>NaN</td>\n",
       "      <td>NaN</td>\n",
       "    </tr>\n",
       "    <tr>\n",
       "      <th>3</th>\n",
       "      <td>4</td>\n",
       "      <td>I am learning to code</td>\n",
       "      <td>18-24 years old</td>\n",
       "      <td>Student, full-time</td>\n",
       "      <td>NaN</td>\n",
       "      <td>Apples</td>\n",
       "      <td>NaN</td>\n",
       "      <td>Some college/university study without earning ...</td>\n",
       "      <td>Other online resources (e.g., videos, blogs, f...</td>\n",
       "      <td>Stack Overflow;How-to videos;Interactive tutorial</td>\n",
       "      <td>...</td>\n",
       "      <td>NaN</td>\n",
       "      <td>NaN</td>\n",
       "      <td>NaN</td>\n",
       "      <td>NaN</td>\n",
       "      <td>NaN</td>\n",
       "      <td>NaN</td>\n",
       "      <td>Too long</td>\n",
       "      <td>Easy</td>\n",
       "      <td>NaN</td>\n",
       "      <td>NaN</td>\n",
       "    </tr>\n",
       "    <tr>\n",
       "      <th>4</th>\n",
       "      <td>5</td>\n",
       "      <td>I am a developer by profession</td>\n",
       "      <td>18-24 years old</td>\n",
       "      <td>Student, full-time</td>\n",
       "      <td>NaN</td>\n",
       "      <td>Apples</td>\n",
       "      <td>NaN</td>\n",
       "      <td>Secondary school (e.g. American high school, G...</td>\n",
       "      <td>Other online resources (e.g., videos, blogs, f...</td>\n",
       "      <td>Technical documentation;Blogs;Written Tutorial...</td>\n",
       "      <td>...</td>\n",
       "      <td>NaN</td>\n",
       "      <td>NaN</td>\n",
       "      <td>NaN</td>\n",
       "      <td>NaN</td>\n",
       "      <td>NaN</td>\n",
       "      <td>NaN</td>\n",
       "      <td>Too short</td>\n",
       "      <td>Easy</td>\n",
       "      <td>NaN</td>\n",
       "      <td>NaN</td>\n",
       "    </tr>\n",
       "  </tbody>\n",
       "</table>\n",
       "<p>5 rows × 114 columns</p>\n",
       "</div>"
      ],
      "text/plain": [
       "   ResponseId                      MainBranch                 Age  \\\n",
       "0           1  I am a developer by profession  Under 18 years old   \n",
       "1           2  I am a developer by profession     35-44 years old   \n",
       "2           3  I am a developer by profession     45-54 years old   \n",
       "3           4           I am learning to code     18-24 years old   \n",
       "4           5  I am a developer by profession     18-24 years old   \n",
       "\n",
       "            Employment RemoteWork   Check  \\\n",
       "0  Employed, full-time     Remote  Apples   \n",
       "1  Employed, full-time     Remote  Apples   \n",
       "2  Employed, full-time     Remote  Apples   \n",
       "3   Student, full-time        NaN  Apples   \n",
       "4   Student, full-time        NaN  Apples   \n",
       "\n",
       "                                    CodingActivities  \\\n",
       "0                                              Hobby   \n",
       "1  Hobby;Contribute to open-source projects;Other...   \n",
       "2  Hobby;Contribute to open-source projects;Other...   \n",
       "3                                                NaN   \n",
       "4                                                NaN   \n",
       "\n",
       "                                             EdLevel  \\\n",
       "0                          Primary/elementary school   \n",
       "1       Bachelor’s degree (B.A., B.S., B.Eng., etc.)   \n",
       "2    Master’s degree (M.A., M.S., M.Eng., MBA, etc.)   \n",
       "3  Some college/university study without earning ...   \n",
       "4  Secondary school (e.g. American high school, G...   \n",
       "\n",
       "                                           LearnCode  \\\n",
       "0                             Books / Physical media   \n",
       "1  Books / Physical media;Colleague;On the job tr...   \n",
       "2  Books / Physical media;Colleague;On the job tr...   \n",
       "3  Other online resources (e.g., videos, blogs, f...   \n",
       "4  Other online resources (e.g., videos, blogs, f...   \n",
       "\n",
       "                                     LearnCodeOnline  ... JobSatPoints_6  \\\n",
       "0                                                NaN  ...            NaN   \n",
       "1  Technical documentation;Blogs;Books;Written Tu...  ...            0.0   \n",
       "2  Technical documentation;Blogs;Books;Written Tu...  ...            NaN   \n",
       "3  Stack Overflow;How-to videos;Interactive tutorial  ...            NaN   \n",
       "4  Technical documentation;Blogs;Written Tutorial...  ...            NaN   \n",
       "\n",
       "  JobSatPoints_7 JobSatPoints_8 JobSatPoints_9 JobSatPoints_10  \\\n",
       "0            NaN            NaN            NaN             NaN   \n",
       "1            0.0            0.0            0.0             0.0   \n",
       "2            NaN            NaN            NaN             NaN   \n",
       "3            NaN            NaN            NaN             NaN   \n",
       "4            NaN            NaN            NaN             NaN   \n",
       "\n",
       "  JobSatPoints_11           SurveyLength SurveyEase ConvertedCompYearly JobSat  \n",
       "0             NaN                    NaN        NaN                 NaN    NaN  \n",
       "1             0.0                    NaN        NaN                 NaN    NaN  \n",
       "2             NaN  Appropriate in length       Easy                 NaN    NaN  \n",
       "3             NaN               Too long       Easy                 NaN    NaN  \n",
       "4             NaN              Too short       Easy                 NaN    NaN  \n",
       "\n",
       "[5 rows x 114 columns]"
      ]
     },
     "execution_count": 4,
     "metadata": {},
     "output_type": "execute_result"
    }
   ],
   "source": [
    "file_path = \"https://cf-courses-data.s3.us.cloud-object-storage.appdomain.cloud/n01PQ9pSmiRX6520flujwQ/survey-data.csv\"\n",
    "\n",
    "df = pd.read_csv(file_path)\n",
    "\n",
    "# Display the first few rows to check if data is loaded correctly\n",
    "df.head()\n",
    "\n"
   ]
  },
  {
   "cell_type": "code",
   "execution_count": null,
   "metadata": {},
   "outputs": [],
   "source": [
    "#df = pd.read_csv(\"https://cf-courses-data.s3.us.cloud-object-storage.appdomain.cloud/n01PQ9pSmiRX6520flujwQ/survey-data.csv\")"
   ]
  },
  {
   "cell_type": "markdown",
   "metadata": {},
   "source": [
    "### Section 1: Handling Duplicates\n",
    "##### Task 1: Identify and remove duplicate rows.\n"
   ]
  },
  {
   "cell_type": "code",
   "execution_count": 5,
   "metadata": {
    "scrolled": true
   },
   "outputs": [
    {
     "data": {
      "text/plain": [
       "np.int64(0)"
      ]
     },
     "execution_count": 5,
     "metadata": {},
     "output_type": "execute_result"
    }
   ],
   "source": [
    "dup_rows = df.duplicated(keep=\"first\")\n",
    "dup_rows.sum()"
   ]
  },
  {
   "cell_type": "markdown",
   "metadata": {},
   "source": [
    "### Section 2: Handling Missing Values\n",
    "##### Task 2: Identify missing values in `CodingActivities`.\n"
   ]
  },
  {
   "cell_type": "code",
   "execution_count": 6,
   "metadata": {},
   "outputs": [
    {
     "data": {
      "text/plain": [
       "0        False\n",
       "1        False\n",
       "2        False\n",
       "3         True\n",
       "4         True\n",
       "         ...  \n",
       "65432    False\n",
       "65433    False\n",
       "65434    False\n",
       "65435    False\n",
       "65436     True\n",
       "Name: CodingActivities, Length: 65437, dtype: bool"
      ]
     },
     "execution_count": 6,
     "metadata": {},
     "output_type": "execute_result"
    }
   ],
   "source": [
    "missing_value = df[\"CodingActivities\"].isna()\n",
    "missing_value"
   ]
  },
  {
   "cell_type": "code",
   "execution_count": 7,
   "metadata": {},
   "outputs": [
    {
     "name": "stdout",
     "output_type": "stream",
     "text": [
      "the number of missing values is 10971\n"
     ]
    }
   ],
   "source": [
    "## Write your code here\n",
    "missing_value = df[\"CodingActivities\"].isna()\n",
    "num_missing = missing_value.sum()\n",
    "\n",
    "print(f\"the number of missing values is {num_missing}\")"
   ]
  },
  {
   "cell_type": "code",
   "execution_count": 8,
   "metadata": {},
   "outputs": [
    {
     "name": "stdout",
     "output_type": "stream",
     "text": [
      "Hobby: 9993\n",
      "I don’t code outside of work: 6508\n",
      "Hobby;Professional development or self-paced learning from online courses: 6203\n",
      "Hobby;Contribute to open-source projects: 3732\n",
      "Professional development or self-paced learning from online courses: 3120\n",
      "Hobby;Contribute to open-source projects;Professional development or self-paced learning from online courses: 2374\n",
      "Hobby;School or academic work: 1521\n",
      "Hobby;Freelance/contract work: 1420\n",
      "Hobby;Professional development or self-paced learning from online courses;Freelance/contract work: 1231\n",
      "Hobby;Bootstrapping a business: 1146\n",
      "Freelance/contract work: 1072\n",
      "Hobby;Bootstrapping a business;Professional development or self-paced learning from online courses: 1052\n",
      "Hobby;School or academic work;Professional development or self-paced learning from online courses: 1032\n",
      "Bootstrapping a business: 821\n",
      "Hobby;Contribute to open-source projects;Freelance/contract work: 795\n",
      "Hobby;Contribute to open-source projects;Professional development or self-paced learning from online courses;Freelance/contract work: 705\n",
      "School or academic work: 680\n",
      "Professional development or self-paced learning from online courses;Freelance/contract work: 655\n",
      "Hobby;Contribute to open-source projects;Bootstrapping a business: 629\n",
      "Hobby;Contribute to open-source projects;School or academic work: 629\n",
      "Contribute to open-source projects: 583\n",
      "Hobby;Contribute to open-source projects;Bootstrapping a business;Professional development or self-paced learning from online courses: 463\n",
      "Hobby;Contribute to open-source projects;School or academic work;Professional development or self-paced learning from online courses: 438\n",
      "Hobby;Bootstrapping a business;Freelance/contract work: 425\n",
      "Hobby;Bootstrapping a business;Professional development or self-paced learning from online courses;Freelance/contract work: 419\n",
      "Hobby;Contribute to open-source projects;Bootstrapping a business;Professional development or self-paced learning from online courses;Freelance/contract work: 410\n",
      "Contribute to open-source projects;Professional development or self-paced learning from online courses: 403\n",
      "Bootstrapping a business;Professional development or self-paced learning from online courses: 388\n",
      "School or academic work;Professional development or self-paced learning from online courses: 382\n",
      "Hobby;Contribute to open-source projects;Bootstrapping a business;Freelance/contract work: 336\n",
      "Bootstrapping a business;Freelance/contract work: 308\n",
      "Hobby;School or academic work;Freelance/contract work: 297\n",
      "Other (please specify):: 273\n",
      "Bootstrapping a business;Professional development or self-paced learning from online courses;Freelance/contract work: 266\n",
      "Hobby;School or academic work;Professional development or self-paced learning from online courses;Freelance/contract work: 260\n",
      "Contribute to open-source projects;Professional development or self-paced learning from online courses;Freelance/contract work: 233\n",
      "Contribute to open-source projects;Freelance/contract work: 220\n",
      "Hobby;Other (please specify):: 220\n",
      "Hobby;Contribute to open-source projects;School or academic work;Professional development or self-paced learning from online courses;Freelance/contract work: 187\n",
      "Hobby;Contribute to open-source projects;Bootstrapping a business;School or academic work;Professional development or self-paced learning from online courses;Freelance/contract work: 173\n",
      "Hobby;Contribute to open-source projects;School or academic work;Freelance/contract work: 170\n",
      "Contribute to open-source projects;Bootstrapping a business: 162\n",
      "Hobby;Bootstrapping a business;School or academic work: 124\n",
      "Hobby;Other (please specify):;Professional development or self-paced learning from online courses: 124\n",
      "Contribute to open-source projects;Bootstrapping a business;Freelance/contract work: 119\n",
      "School or academic work;Professional development or self-paced learning from online courses;Freelance/contract work: 112\n",
      "Contribute to open-source projects;Bootstrapping a business;Professional development or self-paced learning from online courses;Freelance/contract work: 111\n",
      "Contribute to open-source projects;Bootstrapping a business;Professional development or self-paced learning from online courses: 104\n",
      "Hobby;Bootstrapping a business;School or academic work;Professional development or self-paced learning from online courses: 104\n",
      "School or academic work;Freelance/contract work: 95\n",
      "Hobby;Contribute to open-source projects;Other (please specify):: 92\n",
      "Hobby;Bootstrapping a business;School or academic work;Professional development or self-paced learning from online courses;Freelance/contract work: 80\n",
      "Contribute to open-source projects;School or academic work: 78\n",
      "Contribute to open-source projects;School or academic work;Professional development or self-paced learning from online courses: 77\n",
      "Hobby;Contribute to open-source projects;Bootstrapping a business;School or academic work;Professional development or self-paced learning from online courses: 60\n",
      "Hobby;Contribute to open-source projects;Bootstrapping a business;School or academic work;Freelance/contract work: 56\n",
      "Hobby;Contribute to open-source projects;Bootstrapping a business;School or academic work: 55\n",
      "Bootstrapping a business;School or academic work;Professional development or self-paced learning from online courses: 48\n",
      "Hobby;Bootstrapping a business;School or academic work;Freelance/contract work: 47\n",
      "Contribute to open-source projects;School or academic work;Professional development or self-paced learning from online courses;Freelance/contract work: 45\n",
      "Bootstrapping a business;School or academic work: 44\n",
      "Other (please specify):;Professional development or self-paced learning from online courses: 42\n",
      "Contribute to open-source projects;School or academic work;Freelance/contract work: 38\n",
      "Hobby;Contribute to open-source projects;Other (please specify):;Professional development or self-paced learning from online courses: 33\n",
      "Bootstrapping a business;School or academic work;Freelance/contract work: 32\n",
      "Contribute to open-source projects;Other (please specify):: 31\n",
      "Hobby;Other (please specify):;School or academic work: 26\n",
      "Hobby;Other (please specify):;Freelance/contract work: 25\n",
      "Contribute to open-source projects;Bootstrapping a business;School or academic work;Professional development or self-paced learning from online courses;Freelance/contract work: 24\n",
      "Contribute to open-source projects;Bootstrapping a business;School or academic work: 22\n",
      "Bootstrapping a business;School or academic work;Professional development or self-paced learning from online courses;Freelance/contract work: 21\n",
      "Contribute to open-source projects;Bootstrapping a business;School or academic work;Professional development or self-paced learning from online courses: 20\n",
      "Hobby;Other (please specify):;Bootstrapping a business: 19\n",
      "Other (please specify):;Freelance/contract work: 18\n",
      "Hobby;Other (please specify):;School or academic work;Professional development or self-paced learning from online courses: 14\n",
      "Contribute to open-source projects;Bootstrapping a business;School or academic work;Freelance/contract work: 11\n",
      "Other (please specify):;Bootstrapping a business;Professional development or self-paced learning from online courses: 10\n",
      "Hobby;Contribute to open-source projects;Other (please specify):;Bootstrapping a business;School or academic work;Professional development or self-paced learning from online courses;Freelance/contract work: 9\n",
      "Hobby;Contribute to open-source projects;Other (please specify):;Professional development or self-paced learning from online courses;Freelance/contract work: 9\n",
      "Hobby;Contribute to open-source projects;Other (please specify):;Freelance/contract work: 9\n",
      "Other (please specify):;Bootstrapping a business;Freelance/contract work: 8\n",
      "Other (please specify):;Bootstrapping a business: 8\n",
      "Hobby;Other (please specify):;Professional development or self-paced learning from online courses;Freelance/contract work: 8\n",
      "Hobby;Other (please specify):;Bootstrapping a business;Professional development or self-paced learning from online courses: 8\n",
      "Hobby;Contribute to open-source projects;Other (please specify):;Bootstrapping a business: 8\n",
      "Hobby;Contribute to open-source projects;Other (please specify):;School or academic work: 7\n",
      "Other (please specify):;School or academic work;Professional development or self-paced learning from online courses: 7\n",
      "Contribute to open-source projects;Other (please specify):;Professional development or self-paced learning from online courses: 7\n",
      "Other (please specify):;School or academic work: 6\n",
      "Hobby;Contribute to open-source projects;Other (please specify):;Bootstrapping a business;Professional development or self-paced learning from online courses;Freelance/contract work: 6\n",
      "Hobby;Other (please specify):;School or academic work;Freelance/contract work: 6\n",
      "Hobby;Other (please specify):;Bootstrapping a business;Freelance/contract work: 5\n",
      "Contribute to open-source projects;Other (please specify):;Professional development or self-paced learning from online courses;Freelance/contract work: 5\n",
      "Hobby;Contribute to open-source projects;Other (please specify):;Bootstrapping a business;Professional development or self-paced learning from online courses: 4\n",
      "Hobby;Contribute to open-source projects;Other (please specify):;Bootstrapping a business;Freelance/contract work: 4\n",
      "Hobby;Contribute to open-source projects;Other (please specify):;School or academic work;Professional development or self-paced learning from online courses: 4\n",
      "Contribute to open-source projects;Other (please specify):;Bootstrapping a business;Professional development or self-paced learning from online courses;Freelance/contract work: 4\n",
      "Hobby;Other (please specify):;Bootstrapping a business;School or academic work: 3\n",
      "Contribute to open-source projects;Other (please specify):;Freelance/contract work: 3\n",
      "Hobby;Contribute to open-source projects;Other (please specify):;School or academic work;Professional development or self-paced learning from online courses;Freelance/contract work: 3\n",
      "Contribute to open-source projects;Other (please specify):;School or academic work: 3\n",
      "Hobby;Other (please specify):;Bootstrapping a business;Professional development or self-paced learning from online courses;Freelance/contract work: 3\n",
      "Hobby;Other (please specify):;School or academic work;Professional development or self-paced learning from online courses;Freelance/contract work: 2\n",
      "Other (please specify):;Professional development or self-paced learning from online courses;Freelance/contract work: 2\n",
      "Hobby;Contribute to open-source projects;Other (please specify):;Bootstrapping a business;School or academic work;Professional development or self-paced learning from online courses: 2\n",
      "Contribute to open-source projects;Other (please specify):;Bootstrapping a business;School or academic work;Professional development or self-paced learning from online courses;Freelance/contract work: 2\n",
      "Hobby;Contribute to open-source projects;Other (please specify):;Bootstrapping a business;School or academic work;Freelance/contract work: 2\n",
      "Hobby;Other (please specify):;Bootstrapping a business;School or academic work;Freelance/contract work: 2\n",
      "Contribute to open-source projects;Other (please specify):;School or academic work;Professional development or self-paced learning from online courses: 2\n",
      "Contribute to open-source projects;Other (please specify):;Bootstrapping a business: 2\n",
      "Other (please specify):;School or academic work;Freelance/contract work: 1\n",
      "Other (please specify):;School or academic work;Professional development or self-paced learning from online courses;Freelance/contract work: 1\n",
      "Contribute to open-source projects;Other (please specify):;Bootstrapping a business;Freelance/contract work: 1\n",
      "Hobby;Contribute to open-source projects;Other (please specify):;School or academic work;Freelance/contract work: 1\n",
      "Other (please specify):;Bootstrapping a business;School or academic work: 1\n",
      "Contribute to open-source projects;Other (please specify):;Bootstrapping a business;School or academic work;Professional development or self-paced learning from online courses: 1\n",
      "Hobby;Contribute to open-source projects;Other (please specify):;Bootstrapping a business;School or academic work: 1\n",
      "Hobby;Other (please specify):;Bootstrapping a business;School or academic work;Professional development or self-paced learning from online courses;Freelance/contract work: 1\n"
     ]
    }
   ],
   "source": [
    "for activity, count in df[\"CodingActivities\"].value_counts().items():\n",
    "    print(f\"{activity}: {count}\")"
   ]
  },
  {
   "cell_type": "markdown",
   "metadata": {},
   "source": [
    "##### Task 3: Impute missing values in CodingActivities with forward-fill.\n"
   ]
  },
  {
   "cell_type": "code",
   "execution_count": 9,
   "metadata": {},
   "outputs": [
    {
     "name": "stdout",
     "output_type": "stream",
     "text": [
      "The number of missing values after the forward fill is 0\n"
     ]
    },
    {
     "name": "stderr",
     "output_type": "stream",
     "text": [
      "/tmp/ipykernel_299/748472364.py:2: FutureWarning: A value is trying to be set on a copy of a DataFrame or Series through chained assignment using an inplace method.\n",
      "The behavior will change in pandas 3.0. This inplace method will never work because the intermediate object on which we are setting values always behaves as a copy.\n",
      "\n",
      "For example, when doing 'df[col].method(value, inplace=True)', try using 'df.method({col: value}, inplace=True)' or df[col] = df[col].method(value) instead, to perform the operation inplace on the original object.\n",
      "\n",
      "\n",
      "  df[\"CodingActivities\"].fillna(method=\"ffill\", inplace=True)\n",
      "/tmp/ipykernel_299/748472364.py:2: FutureWarning: Series.fillna with 'method' is deprecated and will raise in a future version. Use obj.ffill() or obj.bfill() instead.\n",
      "  df[\"CodingActivities\"].fillna(method=\"ffill\", inplace=True)\n"
     ]
    }
   ],
   "source": [
    "## Write your code here\n",
    "df[\"CodingActivities\"].fillna(method=\"ffill\", inplace=True)\n",
    "new_sum = df[\"CodingActivities\"].isna().sum()\n",
    "print(f\"The number of missing values after the forward fill is {new_sum}\")"
   ]
  },
  {
   "cell_type": "markdown",
   "metadata": {},
   "source": [
    "**Note**:  Before normalizing ConvertedCompYearly, ensure that any missing values (NaN) in this column are handled appropriately. You can choose to either drop the rows containing NaN or replace the missing values with a suitable statistic (e.g., median or mean).\n"
   ]
  },
  {
   "cell_type": "markdown",
   "metadata": {},
   "source": [
    "### Section 3: Normalizing Compensation Data\n",
    "##### Task 4: Identify compensation-related columns, such as ConvertedCompYearly.\n",
    "Normalization is commonly applied to compensation data to bring values within a comparable range. Here, you’ll identify ConvertedCompYearly or similar columns, which contain compensation information. This column will be used in the subsequent tasks for normalization.\n"
   ]
  },
  {
   "cell_type": "code",
   "execution_count": 10,
   "metadata": {},
   "outputs": [
    {
     "name": "stdout",
     "output_type": "stream",
     "text": [
      "['CompTotal', 'AIComplex', 'ConvertedCompYearly']\n"
     ]
    }
   ],
   "source": [
    "## Write your code here\n",
    "comp_cols = [col for col in df if 'comp' in col.lower()] \n",
    "print(comp_cols) "
   ]
  },
  {
   "cell_type": "markdown",
   "metadata": {},
   "source": [
    "##### Task 5: Normalize ConvertedCompYearly using Min-Max Scaling.\n",
    "Min-Max Scaling brings all values in a column to a 0-1 range, making it useful for comparing data across different scales. Here, you will apply Min-Max normalization to the ConvertedCompYearly column, creating a new column ConvertedCompYearly_MinMax with normalized values.\n"
   ]
  },
  {
   "cell_type": "code",
   "execution_count": 11,
   "metadata": {},
   "outputs": [
    {
     "name": "stdout",
     "output_type": "stream",
     "text": [
      "The number of missing values in converted yearly compensation is 42002.\n"
     ]
    }
   ],
   "source": [
    "num_missing = df[\"ConvertedCompYearly\"].isna().sum()\n",
    "print(f\"The number of missing values in converted yearly compensation is {num_missing}.\")"
   ]
  },
  {
   "cell_type": "code",
   "execution_count": 12,
   "metadata": {},
   "outputs": [
    {
     "data": {
      "text/plain": [
       "0    65000.0\n",
       "1    65000.0\n",
       "2    65000.0\n",
       "3    65000.0\n",
       "4    65000.0\n",
       "Name: ConvertedCompYearly, dtype: float64"
      ]
     },
     "execution_count": 12,
     "metadata": {},
     "output_type": "execute_result"
    }
   ],
   "source": [
    "comp_median = df[\"ConvertedCompYearly\"].median()\n",
    "df[\"ConvertedCompYearly\"] = df[\"ConvertedCompYearly\"].fillna(comp_median)\n",
    "\n",
    "df[\"ConvertedCompYearly\"].head()"
   ]
  },
  {
   "cell_type": "code",
   "execution_count": 13,
   "metadata": {},
   "outputs": [
    {
     "data": {
      "text/plain": [
       "0    0.003998\n",
       "1    0.003998\n",
       "2    0.003998\n",
       "3    0.003998\n",
       "4    0.003998\n",
       "Name: ConvertedCompYearly_MinMax, dtype: float64"
      ]
     },
     "execution_count": 13,
     "metadata": {},
     "output_type": "execute_result"
    }
   ],
   "source": [
    "## Write your code here\n",
    "df[\"ConvertedCompYearly_MinMax\"] = (df['ConvertedCompYearly'] - df['ConvertedCompYearly'].min()) / (df['ConvertedCompYearly'].max() - df['ConvertedCompYearly'].min())\n",
    "df[\"ConvertedCompYearly_MinMax\"].head()"
   ]
  },
  {
   "cell_type": "markdown",
   "metadata": {},
   "source": [
    "##### Task 6: Apply Z-score Normalization to `ConvertedCompYearly`.\n",
    "\n",
    "Z-score normalization standardizes values by converting them to a distribution with a mean of 0 and a standard deviation of 1. This method is helpful for datasets with a Gaussian (normal) distribution. Here, you’ll calculate Z-scores for the ConvertedCompYearly column, saving the results in a new column ConvertedCompYearly_Zscore.\n"
   ]
  },
  {
   "cell_type": "code",
   "execution_count": 14,
   "metadata": {},
   "outputs": [
    {
     "data": {
      "text/plain": [
       "0   -0.067513\n",
       "1   -0.067513\n",
       "2   -0.067513\n",
       "3   -0.067513\n",
       "4   -0.067513\n",
       "Name: ConvertedCompYearly_Zscore, dtype: float64"
      ]
     },
     "execution_count": 14,
     "metadata": {},
     "output_type": "execute_result"
    }
   ],
   "source": [
    "## Write your code here\n",
    "\n",
    "df[\"ConvertedCompYearly_Zscore\"] = (df['ConvertedCompYearly'] - df['ConvertedCompYearly'].mean())/(df['ConvertedCompYearly'].std())\n",
    "df[\"ConvertedCompYearly_Zscore\"].head()"
   ]
  },
  {
   "cell_type": "markdown",
   "metadata": {},
   "source": [
    "### Section 4: Visualization of Normalized Data\n",
    "##### Task 7: Visualize the distribution of `ConvertedCompYearly`, `ConvertedCompYearly_Normalized`, and `ConvertedCompYearly_Zscore`\n",
    "\n",
    "Visualization helps you understand how normalization changes the data distribution. In this task, create histograms for the original ConvertedCompYearly, as well as its normalized versions (ConvertedCompYearly_MinMax and ConvertedCompYearly_Zscore). This will help you compare how each normalization technique affects the data range and distribution.\n"
   ]
  },
  {
   "cell_type": "code",
   "execution_count": 15,
   "metadata": {},
   "outputs": [
    {
     "data": {
      "text/plain": [
       "23000     26320.0\n",
       "23001     65000.0\n",
       "23002     65000.0\n",
       "23003     41872.0\n",
       "23004     47778.0\n",
       "23005     65000.0\n",
       "23006     30000.0\n",
       "23007     42962.0\n",
       "23008     85925.0\n",
       "23009    175151.0\n",
       "23010    107406.0\n",
       "23011     65000.0\n",
       "23012    275000.0\n",
       "23013     53419.0\n",
       "23014     97117.0\n",
       "23015     65000.0\n",
       "23016     65000.0\n",
       "23017     65000.0\n",
       "23018     71538.0\n",
       "23019     75184.0\n",
       "23020     65000.0\n",
       "23021     65000.0\n",
       "23022     65000.0\n",
       "23023     65000.0\n",
       "23024     84796.0\n",
       "23025     81629.0\n",
       "23026     65000.0\n",
       "23027     65000.0\n",
       "23028     65000.0\n",
       "23029     76258.0\n",
       "23030      7178.0\n",
       "23031      4385.0\n",
       "23032     53703.0\n",
       "23033     65000.0\n",
       "23034     65000.0\n",
       "23035     65000.0\n",
       "23036     75184.0\n",
       "23037      7178.0\n",
       "23038     38398.0\n",
       "23039     65000.0\n",
       "23040     96666.0\n",
       "23041     89087.0\n",
       "23042    200000.0\n",
       "23043     60663.0\n",
       "23044     65000.0\n",
       "23045      1663.0\n",
       "23046    107406.0\n",
       "23047     65000.0\n",
       "23048     34896.0\n",
       "23049     71962.0\n",
       "23050     52503.0\n",
       "23051     65000.0\n",
       "23052     65000.0\n",
       "23053     65518.0\n",
       "23054     26320.0\n",
       "23055     77332.0\n",
       "Name: ConvertedCompYearly, dtype: float64"
      ]
     },
     "execution_count": 15,
     "metadata": {},
     "output_type": "execute_result"
    }
   ],
   "source": [
    "df[\"ConvertedCompYearly\"][23000:23056]"
   ]
  },
  {
   "cell_type": "code",
   "execution_count": 17,
   "metadata": {},
   "outputs": [
    {
     "data": {
      "image/png": "[encoded data removed]",
      "text/plain": [
       "<Figure size 1200x600 with 1 Axes>"
      ]
     },
     "metadata": {},
     "output_type": "display_data"
    }
   ],
   "source": [
    "\n",
    "plt.figure(figsize=(12, 6))\n",
    "\n",
    "plt.hist(df[\"ConvertedCompYearly\"], bins=30, color=\"skyblue\", edgecolor=\"black\")\n",
    "\n",
    "plt.title(\"Histogram for Converted Yearly Compensation\")\n",
    "plt.xlabel(\"Compensation Amount\")\n",
    "plt.ylabel(\"Frequency\") \n",
    "\n",
    "plt.show()"
   ]
  },
  {
   "cell_type": "code",
   "execution_count": 19,
   "metadata": {},
   "outputs": [
    {
     "data": {
      "image/png": "[encoded data removed]",
      "text/plain": [
       "<Figure size 1200x600 with 1 Axes>"
      ]
     },
     "metadata": {},
     "output_type": "display_data"
    }
   ],
   "source": [
    "plt.figure(figsize=(12, 6))\n",
    "\n",
    "plt.hist(df[\"ConvertedCompYearly_MinMax\"], bins=30, color=\"skyblue\", edgecolor=\"black\")\n",
    "\n",
    "plt.title(\"Histogram for Normalized Converted Yearly Compensation\")\n",
    "plt.xlabel(\"Normalized Compensation Amount\")\n",
    "plt.ylabel(\"Frequency\") \n",
    "\n",
    "plt.show()"
   ]
  },
  {
   "cell_type": "code",
   "execution_count": 20,
   "metadata": {},
   "outputs": [
    {
     "data": {
      "image/png": "[encoded data removed]",
      "text/plain": [
       "<Figure size 1200x600 with 1 Axes>"
      ]
     },
     "metadata": {},
     "output_type": "display_data"
    }
   ],
   "source": [
    "data2 = df[\"ConvertedCompYearly_Zscore\"]\n",
    "\n",
    "plt.figure(figsize=(12, 6))\n",
    "\n",
    "plt.hist(data2, bins=30, color=\"skyblue\", edgecolor=\"black\")\n",
    "\n",
    "plt.title(\"Histogram for Converted Yearly Compensation Z-score\")\n",
    "plt.xlabel(\"Compensation Amount Z-scores\")\n",
    "plt.ylabel(\"Frequency\") \n",
    "\n",
    "plt.show()"
   ]
  },
  {
   "cell_type": "code",
   "execution_count": 27,
   "metadata": {},
   "outputs": [
    {
     "name": "stdout",
     "output_type": "stream",
     "text": [
      "count    6.543700e+04\n",
      "mean    -5.733248e-17\n",
      "std      1.000000e+00\n",
      "min     -6.467200e-01\n",
      "25%     -6.751303e-02\n",
      "50%     -6.751303e-02\n",
      "75%     -6.751303e-02\n",
      "max      1.442161e+02\n",
      "Name: ConvertedCompYearly_Zscore, dtype: float64\n",
      "\n",
      "==================================================\n",
      "\n",
      "count    65437.000000\n",
      "mean         0.004464\n",
      "std          0.006903\n",
      "min          0.000000\n",
      "25%          0.003998\n",
      "50%          0.003998\n",
      "75%          0.003998\n",
      "max          1.000000\n",
      "Name: ConvertedCompYearly_MinMax, dtype: float64\n",
      "\n",
      "==================================================\n",
      "\n",
      "count    6.543700e+04\n",
      "mean     7.257636e+04\n",
      "std      1.122207e+05\n",
      "min      1.000000e+00\n",
      "25%      6.500000e+04\n",
      "50%      6.500000e+04\n",
      "75%      6.500000e+04\n",
      "max      1.625660e+07\n",
      "Name: ConvertedCompYearly, dtype: float64\n",
      "\n",
      "==================================================\n",
      "\n"
     ]
    }
   ],
   "source": [
    "for col in [\"ConvertedCompYearly_Zscore\",\"ConvertedCompYearly_MinMax\",\"ConvertedCompYearly\"]:\n",
    "    print(df[col].describe())\n",
    "    print(\"\\n\"+\"=\"*50+\"\\n\")"
   ]
  },
  {
   "cell_type": "markdown",
   "metadata": {},
   "source": [
    "### Summary\n"
   ]
  },
  {
   "cell_type": "markdown",
   "metadata": {},
   "source": [
    "In this lab, you practiced essential normalization techniques, including:\n",
    "\n",
    "- Identifying and handling duplicate rows.\n",
    "\n",
    "- Checking for and imputing missing values.\n",
    "\n",
    "- Applying Min-Max scaling and Z-score normalization to compensation data.\n",
    "\n",
    "- Visualizing the impact of normalization on data distribution.\n"
   ]
  },
  {
   "cell_type": "markdown",
   "metadata": {},
   "source": [
    "Copyright © IBM Corporation. All rights reserved.\n"
   ]
  }
 ],
 "metadata": {
  "kernelspec": {
   "display_name": "Python 3 (ipykernel)",
   "language": "python",
   "name": "python3"
  },
  "language_info": {
   "codemirror_mode": {
    "name": "ipython",
    "version": 3
   },
   "file_extension": ".py",
   "mimetype": "text/x-python",
   "name": "python",
   "nbconvert_exporter": "python",
   "pygments_lexer": "ipython3",
   "version": "3.12.8"
  },
  "prev_pub_hash": "5b2314eae200c68d20ee3204d822e6fad4f5845945b4895f383c3007af43740d"
 },
 "nbformat": 4,
 "nbformat_minor": 4
}
